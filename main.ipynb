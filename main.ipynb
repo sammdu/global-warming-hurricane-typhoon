{
 "cells": [
  {
   "cell_type": "markdown",
   "metadata": {},
   "source": [
    "# CSC110 Final Project | University of Toronto\n",
    "\n",
    "## The Effect of Global Warming on Hurricane and Typhoon Occurrence"
   ]
  },
  {
   "cell_type": "markdown",
   "metadata": {},
   "source": [
    "### Installing & Importing Dependencies"
   ]
  },
  {
   "cell_type": "code",
   "execution_count": 3,
   "metadata": {},
   "outputs": [
    {
     "name": "stdout",
     "output_type": "stream",
     "text": [
      "Requirement already satisfied: numpy in /home/samm/Documents/UofT/Year1/Courses/2020_Fall/CSC110/csc110_env/lib/python3.8/site-packages (1.19.4)\n",
      "\u001b[33mWARNING: You are using pip version 20.3; however, version 20.3.1 is available.\n",
      "You should consider upgrading via the '/home/samm/Documents/UofT/Year1/Courses/2020_Fall/CSC110/csc110_env/bin/python3.8 -m pip install --upgrade pip' command.\u001b[0m\n",
      "Requirement already satisfied: scikit-learn in /home/samm/Documents/UofT/Year1/Courses/2020_Fall/CSC110/csc110_env/lib/python3.8/site-packages (0.23.2)\n",
      "Requirement already satisfied: joblib>=0.11 in /home/samm/Documents/UofT/Year1/Courses/2020_Fall/CSC110/csc110_env/lib/python3.8/site-packages (from scikit-learn) (0.17.0)\n",
      "Requirement already satisfied: threadpoolctl>=2.0.0 in /home/samm/Documents/UofT/Year1/Courses/2020_Fall/CSC110/csc110_env/lib/python3.8/site-packages (from scikit-learn) (2.1.0)\n",
      "Requirement already satisfied: scipy>=0.19.1 in /home/samm/Documents/UofT/Year1/Courses/2020_Fall/CSC110/csc110_env/lib/python3.8/site-packages (from scikit-learn) (1.5.4)\n",
      "Requirement already satisfied: numpy>=1.13.3 in /home/samm/Documents/UofT/Year1/Courses/2020_Fall/CSC110/csc110_env/lib/python3.8/site-packages (from scikit-learn) (1.19.4)\n",
      "Requirement already satisfied: numpy>=1.13.3 in /home/samm/Documents/UofT/Year1/Courses/2020_Fall/CSC110/csc110_env/lib/python3.8/site-packages (from scikit-learn) (1.19.4)\n",
      "\u001b[33mWARNING: You are using pip version 20.3; however, version 20.3.1 is available.\n",
      "You should consider upgrading via the '/home/samm/Documents/UofT/Year1/Courses/2020_Fall/CSC110/csc110_env/bin/python3.8 -m pip install --upgrade pip' command.\u001b[0m\n",
      "Requirement already satisfied: plotly in /home/samm/Documents/UofT/Year1/Courses/2020_Fall/CSC110/csc110_env/lib/python3.8/site-packages (4.11.0)\n",
      "Requirement already satisfied: six in /home/samm/Documents/UofT/Year1/Courses/2020_Fall/CSC110/csc110_env/lib/python3.8/site-packages (from plotly) (1.15.0)\n",
      "Requirement already satisfied: retrying>=1.3.3 in /home/samm/Documents/UofT/Year1/Courses/2020_Fall/CSC110/csc110_env/lib/python3.8/site-packages (from plotly) (1.3.3)\n",
      "Requirement already satisfied: six in /home/samm/Documents/UofT/Year1/Courses/2020_Fall/CSC110/csc110_env/lib/python3.8/site-packages (from plotly) (1.15.0)\n",
      "\u001b[33mWARNING: You are using pip version 20.3; however, version 20.3.1 is available.\n",
      "You should consider upgrading via the '/home/samm/Documents/UofT/Year1/Courses/2020_Fall/CSC110/csc110_env/bin/python3.8 -m pip install --upgrade pip' command.\u001b[0m\n"
     ]
    }
   ],
   "source": [
    "!pip install numpy\n",
    "!pip install scikit-learn\n",
    "!pip install plotly"
   ]
  },
  {
   "cell_type": "code",
   "execution_count": 4,
   "metadata": {},
   "outputs": [],
   "source": [
    "import csv\n",
    "import numpy as np\n",
    "import sklearn as skl\n",
    "import plotly.graph_objects as go\n",
    "from plotly.subplots import make_subplots"
   ]
  },
  {
   "cell_type": "code",
   "execution_count": 5,
   "metadata": {},
   "outputs": [
    {
     "data": {
      "text/plain": [
       "3.141592653589793"
      ]
     },
     "execution_count": 5,
     "metadata": {},
     "output_type": "execute_result"
    }
   ],
   "source": [
    "np.pi"
   ]
  },
  {
   "cell_type": "code",
   "execution_count": null,
   "metadata": {},
   "outputs": [],
   "source": []
  },
  {
   "cell_type": "code",
   "execution_count": null,
   "metadata": {},
   "outputs": [],
   "source": []
  },
  {
   "cell_type": "code",
   "execution_count": null,
   "metadata": {},
   "outputs": [],
   "source": []
  }
 ],
 "metadata": {
  "kernelspec": {
   "display_name": "csc110_env",
   "language": "python",
   "name": "csc110_env"
  },
  "language_info": {
   "codemirror_mode": {
    "name": "ipython",
    "version": 3
   },
   "file_extension": ".py",
   "mimetype": "text/x-python",
   "name": "python",
   "nbconvert_exporter": "python",
   "pygments_lexer": "ipython3",
   "version": "3.8.6"
  }
 },
 "nbformat": 4,
 "nbformat_minor": 4
}
